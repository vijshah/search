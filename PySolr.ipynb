{
 "cells": [
  {
   "cell_type": "code",
   "execution_count": 1,
   "metadata": {},
   "outputs": [],
   "source": [
    "import pysolr\n",
    "import pandas as pd"
   ]
  },
  {
   "cell_type": "code",
   "execution_count": 91,
   "metadata": {},
   "outputs": [],
   "source": [
    "solr = pysolr.Solr('http://localhost:8983/solr/mydata', timeout=60, auth=None)"
   ]
  },
  {
   "cell_type": "code",
   "execution_count": 179,
   "metadata": {},
   "outputs": [
    {
     "data": {
      "text/plain": [
       "'<?xml version=\"1.0\" encoding=\"UTF-8\"?>\\n<response>\\n\\n<lst name=\"responseHeader\">\\n  <int name=\"rf\">2</int>\\n  <int name=\"status\">0</int>\\n  <int name=\"QTime\">229</int>\\n</lst>\\n</response>\\n'"
      ]
     },
     "execution_count": 179,
     "metadata": {},
     "output_type": "execute_result"
    }
   ],
   "source": [
    "# solr.delete(q='*')"
   ]
  },
  {
   "cell_type": "code",
   "execution_count": 133,
   "metadata": {},
   "outputs": [],
   "source": [
    "#df = pd.read_clipboard()\n",
    "#df.to_csv('companies.csv', sep='\\t', encoding='utf-8', index=False)\n",
    "df = pd.read_csv('companies.csv', sep='\\t', encoding='utf-8')"
   ]
  },
  {
   "cell_type": "code",
   "execution_count": 180,
   "metadata": {},
   "outputs": [
    {
     "data": {
      "text/html": [
       "<div>\n",
       "<style scoped>\n",
       "    .dataframe tbody tr th:only-of-type {\n",
       "        vertical-align: middle;\n",
       "    }\n",
       "\n",
       "    .dataframe tbody tr th {\n",
       "        vertical-align: top;\n",
       "    }\n",
       "\n",
       "    .dataframe thead th {\n",
       "        text-align: right;\n",
       "    }\n",
       "</style>\n",
       "<table border=\"1\" class=\"dataframe\">\n",
       "  <thead>\n",
       "    <tr style=\"text-align: right;\">\n",
       "      <th></th>\n",
       "      <th>name</th>\n",
       "      <th>text</th>\n",
       "      <th>id</th>\n",
       "      <th>mcap_boost</th>\n",
       "      <th>type</th>\n",
       "      <th>subtype</th>\n",
       "    </tr>\n",
       "  </thead>\n",
       "  <tbody>\n",
       "    <tr>\n",
       "      <th>0</th>\n",
       "      <td>Microsoft Corp</td>\n",
       "      <td>MSFT Microsoft Microsoft Corp Corporation</td>\n",
       "      <td>MSFT.OQ</td>\n",
       "      <td>100.000000</td>\n",
       "      <td>ORG</td>\n",
       "      <td>USLISTED</td>\n",
       "    </tr>\n",
       "    <tr>\n",
       "      <th>1</th>\n",
       "      <td>Amazon.com Inc</td>\n",
       "      <td>AMZN Amazon.com Amazon.com Inc Amazon</td>\n",
       "      <td>AMZN.OQ</td>\n",
       "      <td>90.694794</td>\n",
       "      <td>ORG</td>\n",
       "      <td>USLISTED</td>\n",
       "    </tr>\n",
       "    <tr>\n",
       "      <th>2</th>\n",
       "      <td>Apple Inc</td>\n",
       "      <td>AAPL Apple Apple Inc Apple Computers</td>\n",
       "      <td>AAPL.OQ</td>\n",
       "      <td>87.375706</td>\n",
       "      <td>ORG</td>\n",
       "      <td>USLISTED</td>\n",
       "    </tr>\n",
       "    <tr>\n",
       "      <th>3</th>\n",
       "      <td>Alphabet Inc</td>\n",
       "      <td>GOOGL Alphabet Alphabet Inc Google</td>\n",
       "      <td>GOOGL.OQ</td>\n",
       "      <td>74.272965</td>\n",
       "      <td>ORG</td>\n",
       "      <td>USLISTED</td>\n",
       "    </tr>\n",
       "    <tr>\n",
       "      <th>4</th>\n",
       "      <td>Facebook Inc</td>\n",
       "      <td>FB Facebook Facebook Inc</td>\n",
       "      <td>FB.OQ</td>\n",
       "      <td>50.998515</td>\n",
       "      <td>ORG</td>\n",
       "      <td>USLISTED</td>\n",
       "    </tr>\n",
       "  </tbody>\n",
       "</table>\n",
       "</div>"
      ],
      "text/plain": [
       "             name                                       text        id  \\\n",
       "0  Microsoft Corp  MSFT Microsoft Microsoft Corp Corporation   MSFT.OQ   \n",
       "1  Amazon.com Inc      AMZN Amazon.com Amazon.com Inc Amazon   AMZN.OQ   \n",
       "2       Apple Inc       AAPL Apple Apple Inc Apple Computers   AAPL.OQ   \n",
       "3    Alphabet Inc         GOOGL Alphabet Alphabet Inc Google  GOOGL.OQ   \n",
       "4    Facebook Inc                   FB Facebook Facebook Inc     FB.OQ   \n",
       "\n",
       "   mcap_boost type   subtype  \n",
       "0  100.000000  ORG  USLISTED  \n",
       "1   90.694794  ORG  USLISTED  \n",
       "2   87.375706  ORG  USLISTED  \n",
       "3   74.272965  ORG  USLISTED  \n",
       "4   50.998515  ORG  USLISTED  "
      ]
     },
     "execution_count": 180,
     "metadata": {},
     "output_type": "execute_result"
    }
   ],
   "source": [
    "df['type'] = 'ORG'\n",
    "df['subtype'] = 'USLISTED'\n",
    "df.columns = ['name','text','id','mcap_boost', 'type', 'subtype']\n",
    "df.head()"
   ]
  },
  {
   "cell_type": "code",
   "execution_count": 181,
   "metadata": {},
   "outputs": [
    {
     "name": "stdout",
     "output_type": "stream",
     "text": [
      "3639 x 6\n"
     ]
    }
   ],
   "source": [
    "data = df.to_dict('records')\n",
    "print(len(data), 'x', len(data[0]))"
   ]
  },
  {
   "cell_type": "code",
   "execution_count": 182,
   "metadata": {},
   "outputs": [
    {
     "data": {
      "text/plain": [
       "[{'name': 'Microsoft Corp',\n",
       "  'text': 'MSFT Microsoft Microsoft Corp Corporation',\n",
       "  'id': 'MSFT.OQ',\n",
       "  'mcap_boost': 100.0,\n",
       "  'type': 'ORG',\n",
       "  'subtype': 'USLISTED'},\n",
       " {'name': 'Amazon.com Inc',\n",
       "  'text': 'AMZN Amazon.com Amazon.com Inc Amazon',\n",
       "  'id': 'AMZN.OQ',\n",
       "  'mcap_boost': 90.69479377,\n",
       "  'type': 'ORG',\n",
       "  'subtype': 'USLISTED'},\n",
       " {'name': 'Apple Inc',\n",
       "  'text': 'AAPL Apple Apple Inc Apple Computers',\n",
       "  'id': 'AAPL.OQ',\n",
       "  'mcap_boost': 87.3757061,\n",
       "  'type': 'ORG',\n",
       "  'subtype': 'USLISTED'},\n",
       " {'name': 'Alphabet Inc',\n",
       "  'text': 'GOOGL Alphabet Alphabet Inc Google',\n",
       "  'id': 'GOOGL.OQ',\n",
       "  'mcap_boost': 74.27296515,\n",
       "  'type': 'ORG',\n",
       "  'subtype': 'USLISTED'},\n",
       " {'name': 'Facebook Inc',\n",
       "  'text': 'FB Facebook Facebook Inc',\n",
       "  'id': 'FB.OQ',\n",
       "  'mcap_boost': 50.99851453,\n",
       "  'type': 'ORG',\n",
       "  'subtype': 'USLISTED'}]"
      ]
     },
     "execution_count": 182,
     "metadata": {},
     "output_type": "execute_result"
    }
   ],
   "source": [
    "data[0:5]"
   ]
  },
  {
   "cell_type": "code",
   "execution_count": 183,
   "metadata": {},
   "outputs": [
    {
     "data": {
      "text/plain": [
       "'<?xml version=\"1.0\" encoding=\"UTF-8\"?>\\n<response>\\n\\n<lst name=\"responseHeader\">\\n  <int name=\"rf\">2</int>\\n  <int name=\"status\">0</int>\\n  <int name=\"QTime\">2669</int>\\n</lst>\\n</response>\\n'"
      ]
     },
     "execution_count": 183,
     "metadata": {},
     "output_type": "execute_result"
    }
   ],
   "source": [
    "solr.add(data)"
   ]
  },
  {
   "cell_type": "code",
   "execution_count": 193,
   "metadata": {},
   "outputs": [
    {
     "name": "stdout",
     "output_type": "stream",
     "text": [
      "3\n"
     ]
    },
    {
     "data": {
      "text/plain": [
       "[{'name': ['Intel Corp'],\n",
       "  'id': 'INTC.OQ',\n",
       "  'mcap_boost': [20.37485787],\n",
       "  'type': ['ORG'],\n",
       "  'subtype': ['USLISTED'],\n",
       "  'score': 5.1250744},\n",
       " {'name': ['Advanced Micro Devices Inc'],\n",
       "  'id': 'AMD.OQ',\n",
       "  'mcap_boost': [3.235402132],\n",
       "  'type': ['ORG'],\n",
       "  'subtype': ['USLISTED'],\n",
       "  'score': 2.7084205},\n",
       " {'name': ['Campbell Soup Co'],\n",
       "  'id': 'CPB.N',\n",
       "  'mcap_boost': [1.25392555],\n",
       "  'type': ['ORG'],\n",
       "  'subtype': ['USLISTED'],\n",
       "  'score': 5.165178}]"
      ]
     },
     "execution_count": 193,
     "metadata": {},
     "output_type": "execute_result"
    }
   ],
   "source": [
    "results = solr.search(q='campbell intel amd', \n",
    "                      **{'sort':'mcap_boost desc', 'df':'text', \n",
    "                      'fl': 'id,name,mcap_boost,type,subtype,score'})\n",
    "#results = solr.search(q='{!boost b=mcap}text:apple')\n",
    "#results = solr.search(q='text:apple')\n",
    "print(len(results))\n",
    "list(results)"
   ]
  },
  {
   "cell_type": "code",
   "execution_count": 192,
   "metadata": {},
   "outputs": [
    {
     "name": "stdout",
     "output_type": "stream",
     "text": [
      "<?xml version=\"1.0\" encoding=\"UTF-8\"?>\n",
      "<response>\n",
      "\n",
      "<lst name=\"responseHeader\">\n",
      "  <int name=\"status\">0</int>\n",
      "  <int name=\"QTime\">34</int>\n",
      "</lst>\n",
      "</response>\n",
      "\n"
     ]
    }
   ],
   "source": [
    "resp = solr.optimize()\n",
    "print(resp)"
   ]
  },
  {
   "cell_type": "code",
   "execution_count": null,
   "metadata": {},
   "outputs": [],
   "source": []
  }
 ],
 "metadata": {
  "kernelspec": {
   "display_name": "Python 3",
   "language": "python",
   "name": "python3"
  },
  "language_info": {
   "codemirror_mode": {
    "name": "ipython",
    "version": 3
   },
   "file_extension": ".py",
   "mimetype": "text/x-python",
   "name": "python",
   "nbconvert_exporter": "python",
   "pygments_lexer": "ipython3",
   "version": "3.7.3"
  }
 },
 "nbformat": 4,
 "nbformat_minor": 2
}
